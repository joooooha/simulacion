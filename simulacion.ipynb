{
  "nbformat": 4,
  "nbformat_minor": 0,
  "metadata": {
    "colab": {
      "provenance": []
    },
    "kernelspec": {
      "name": "python3",
      "display_name": "Python 3"
    },
    "language_info": {
      "name": "python"
    }
  },
  "cells": [
    {
      "cell_type": "code",
      "execution_count": null,
      "metadata": {
        "colab": {
          "base_uri": "https://localhost:8080/",
          "height": 507
        },
        "id": "6Tme77kJ2fiZ",
        "outputId": "8c43a397-54c7-49fe-8487-e6a065e62a76"
      },
      "outputs": [
        {
          "output_type": "display_data",
          "data": {
            "text/plain": [
              "<Figure size 640x480 with 1 Axes>"
            ],
            "image/png": "[encoded data removed]"
          },
          "metadata": {}
        },
        {
          "output_type": "stream",
          "name": "stdout",
          "text": [
            "Tiempo final: 0.2960000000000002 s\n",
            "aceleración final: -9.815630029807533 s\n"
          ]
        }
      ],
      "source": [
        "import numpy as np\n",
        "import matplotlib.pyplot as plt\n",
        "import pandas as pd\n",
        "\n",
        "\n",
        "# Parámetros iniciales\n",
        "m = 0.02  # Masa del objeto (kg)\n",
        "rho_aire = 0.8241  # Densidad del aire (kg/m^3)\n",
        "g = -9.81  # Aceleración de la gravedad (m/s^2)\n",
        "Cd = 0.47  # Coeficiente de arrastre (esfera)\n",
        "r = 0.0047  # Radio del objeto (m)\n",
        "A = np.pi * r**2  # Área de la sección transversal\n",
        "\n",
        "# Condiciones iniciales\n",
        "v0 = 0  # Velocidad inicial (m/s)\n",
        "y0 = 0.43  # Altura inicial (m)\n",
        "t = 0  # Tiempo inicial (s)\n",
        "dt = 0.001  # Paso de tiempo (s)\n",
        "\n",
        "# Listas para almacenar los datos\n",
        "t_list = [t]\n",
        "y_list = [y0]\n",
        "v_list = [v0]\n",
        "\n",
        "# Bucle de integración numérica\n",
        "while y0 > 0:\n",
        "    # Cálculo de la fuerza de arrastre\n",
        "    F_arrastre = 0.5 * rho_aire * v0**2 * Cd * A\n",
        "\n",
        "    # Cálculo de la aceleración\n",
        "    a = (m * g - F_arrastre) / m\n",
        "\n",
        "    # Actualización de la velocidad y posición\n",
        "    v = v0 + a * dt\n",
        "    y = y0 + v * dt\n",
        "\n",
        "    # Actualización del tiempo\n",
        "    t = t + dt\n",
        "\n",
        "    # Almacenamiento de los datos\n",
        "    t_list.append(t)\n",
        "    y_list.append(y)\n",
        "    v_list.append(v)\n",
        "\n",
        "    # Actualización de las condiciones iniciales\n",
        "    v0 = v\n",
        "    y0 = y\n",
        "\n",
        "\n",
        "      # Graficar los resultados\n",
        "plt.plot(t_list, y_list)\n",
        "plt.xlabel('Tiempo (s)')\n",
        "plt.ylabel('Altura (m)')\n",
        "plt.title('Caída libre con resistencia del aire')\n",
        "plt.show()\n",
        "print(f\"Tiempo final: {t} s\")\n",
        "print(f\"aceleración final: {a} s\")\n",
        "tabla_tiempo = pd.DataFrame(t_list)\n",
        "tabla_tiempo.to_excel('tiempo.xlsx')\n",
        "tabla_altura = pd.DataFrame(y_list)\n",
        "tabla_altura.to_excel('altura.xlsx')\n",
        "\n",
        "\n",
        "\n",
        "\n",
        "\n"
      ]
    },
    {
      "cell_type": "code",
      "source": [
        "import math\n",
        "\n",
        "# Condiciones iniciales (Medellín, 31/07 - valores estimados)\n",
        "P1 = 1.013 * 101325  # Pa (presión atmosférica)\n",
        "T1 = 291.15  # K (temperatura del recipiente)\n",
        "T2 = 291.15  # K (temperatura del aire extraído - ajustar si es diferente)\n",
        "\n",
        "# Volumen de la jeringa\n",
        "volumen_jeringa = 20 * 1e-6  # m^3\n",
        "\n",
        "# Número de aspiraciones\n",
        "n_aspiraciones = 30\n",
        "\n",
        "# Volumen total extraído (teórico)\n",
        "volumen_extraido_teorico = volumen_jeringa * n_aspiraciones\n",
        "\n",
        "# Rango de error en el volumen extraído\n",
        "error_min = 0.4\n",
        "error_max = 0.6\n",
        "\n",
        "# Volumen extraído mínimo y máximo\n",
        "volumen_extraido_min = volumen_extraido_teorico * (1 - error_max)\n",
        "volumen_extraido_max = volumen_extraido_teorico * (1 + error_min)\n",
        "\n",
        "# Volumen inicial del recipiente\n",
        "volumen_inicial = 500 * 1e-6  # m^3\n",
        "\n",
        "# Presión final (mínima y máxima)\n",
        "P2_min = P1 * volumen_inicial / (volumen_inicial + volumen_extraido_max)\n",
        "P2_max = P1 * volumen_inicial / (volumen_inicial + volumen_extraido_min)\n",
        "\n",
        "# Constante universal de los gases\n",
        "R = 8.314  # J/(mol*K)\n",
        "\n",
        "# Masa molar del aire seco\n",
        "M = 0.02896  # kg/mol\n",
        "\n",
        "# Función para calcular la densidad\n",
        "def calcular_densidad(presion, temperatura, volumen):\n",
        "    \"\"\"Calcula la densidad del aire.\n",
        "\n",
        "    Args:\n",
        "        presion: Presión en Pa.\n",
        "        temperatura: Temperatura en K.\n",
        "        volumen: Volumen en m³.\n",
        "\n",
        "    Returns:\n",
        "        Densidad en kg/m³.\n",
        "    \"\"\"\n",
        "    return (presion * M) / (R * temperatura)\n",
        "\n",
        "# Densidad final (mínima y máxima)\n",
        "rho2_min = calcular_densidad(P2_min, T1, volumen_inicial - volumen_extraido_max)\n",
        "rho2_max = calcular_densidad(P2_max, T1, volumen_inicial - volumen_extraido_min)\n",
        "\n",
        "print(\"Densidad final del aire (estimada):\")\n",
        "print(f\"Mínimo: {rho2_min:.4f} kg/m^3\")\n",
        "print(f\"Máximo: {rho2_max:.4f} kg/m^3\")\n"
      ],
      "metadata": {
        "colab": {
          "base_uri": "https://localhost:8080/"
        },
        "id": "6InEisN2xUO9",
        "outputId": "2e1ee392-2a7f-4c06-cb29-97866f9e51ca"
      },
      "execution_count": null,
      "outputs": [
        {
          "output_type": "stream",
          "name": "stdout",
          "text": [
            "Densidad final del aire (estimada):\n",
            "Mínimo: 0.4582 kg/m^3\n",
            "Máximo: 0.8297 kg/m^3\n"
          ]
        }
      ]
    }
  ]
}